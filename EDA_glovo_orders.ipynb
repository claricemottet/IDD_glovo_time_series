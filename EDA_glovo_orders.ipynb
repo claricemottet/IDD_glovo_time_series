{
 "cells": [
  {
   "cell_type": "markdown",
   "metadata": {},
   "source": [
    "EDA - Glovo Orders\n",
    "\n",
    "-Clarice Mottet\n",
    "\n",
    "Goal: forecast number of orders for every hour for a week ahead in BCN\n",
    "\n",
    "Outline:\n",
    "-Data Checks\n",
    "-Distribution of order information\n",
    "-Time dependence (trend, seasonality)\n",
    "-Serial dependence (cycles)\n",
    "-Stationarity"
   ]
  },
  {
   "cell_type": "code",
   "execution_count": 79,
   "metadata": {},
   "outputs": [],
   "source": [
    "#libraries\n",
    "import pandas as pd\n",
    "import numpy as np\n",
    "import seaborn as sns\n",
    "from matplotlib import pyplot as plt\n",
    "import plotly.express as px\n",
    "import numpy as np\n",
    "from sklearn.metrics import mean_absolute_error\n",
    "from datetime import datetime, timedelta\n",
    "\n",
    "XSMALL_SIZE = 8\n",
    "SMALL_SIZE = 12\n",
    "MEDIUM_SIZE = SMALL_SIZE + 3\n",
    "\n",
    "plt.rc('font', size=XSMALL_SIZE)           # controls default text sizes\\\\n\\\",\\n\",\n",
    "plt.rc('axes', titlesize=MEDIUM_SIZE)     # fontsize of the axes title\\\\n\\\",\\n\",\n",
    "plt.rc('axes', labelsize=XSMALL_SIZE)    # fontsize of the x and y labels\\\\n\\\",\\n\",\n",
    "plt.rc('xtick', labelsize=XSMALL_SIZE)    # fontsize of the tick labels\\\\n\\\",\\n\",\n",
    "plt.rc('ytick', labelsize=XSMALL_SIZE)    # fontsize of the tick labels\\\\n\\\",\\n\",\n",
    "plt.rc('legend', fontsize=XSMALL_SIZE)    # legend fontsize\\\\n\\\",\\n\",\n",
    "plt.rc('figure', titlesize=SMALL_SIZE)  # fontsize of the figure title\\\\n\\\",\\n\",\n",
    "plt.rc('figure', figsize=(7, 2))\n",
    "plt.rc('figure', dpi=200)\n",
    "\n",
    "#paths\n",
    "path_in_ = r'/home/clarice/Documents/VSCode/Term3/Intelligent_Data/IDD_glovo_time_series/inputs/'\n",
    "path_out_ = r'/home/clarice/Documents/VSCode/Term3/Intelligent_Data/IDD_glovo_time_series/outputs/'\n",
    "\n",
    "\n",
    "#global variables\n",
    "TARGET = 'orders'"
   ]
  },
  {
   "cell_type": "code",
   "execution_count": 84,
   "metadata": {},
   "outputs": [],
   "source": [
    "#import data into python\n",
    "\n",
    "df_orders = pd.read_csv(path_in_ + 'data_BCN.csv', dtype = str)\n",
    "df_orders['time'] = pd.to_datetime(df_orders['time'])\n",
    "df_orders['orders'] = pd.to_numeric(df_orders['orders'])\n",
    "\n",
    "df_orders.sort_values(by = ['time'], inplace = True)\n",
    "df_orders.reset_index(drop = True, inplace = True)"
   ]
  },
  {
   "cell_type": "markdown",
   "metadata": {},
   "source": [
    "## Data Checks"
   ]
  },
  {
   "cell_type": "code",
   "execution_count": 81,
   "metadata": {},
   "outputs": [
    {
     "data": {
      "text/html": [
       "<div>\n",
       "<style scoped>\n",
       "    .dataframe tbody tr th:only-of-type {\n",
       "        vertical-align: middle;\n",
       "    }\n",
       "\n",
       "    .dataframe tbody tr th {\n",
       "        vertical-align: top;\n",
       "    }\n",
       "\n",
       "    .dataframe thead th {\n",
       "        text-align: right;\n",
       "    }\n",
       "</style>\n",
       "<table border=\"1\" class=\"dataframe\">\n",
       "  <thead>\n",
       "    <tr style=\"text-align: right;\">\n",
       "      <th></th>\n",
       "      <th>count</th>\n",
       "      <th>mean</th>\n",
       "      <th>min</th>\n",
       "      <th>25%</th>\n",
       "      <th>50%</th>\n",
       "      <th>75%</th>\n",
       "      <th>max</th>\n",
       "    </tr>\n",
       "  </thead>\n",
       "  <tbody>\n",
       "    <tr>\n",
       "      <th>time</th>\n",
       "      <td>8766</td>\n",
       "      <td>2021-08-03 01:57:28.459958784</td>\n",
       "      <td>2021-02-01 00:00:00</td>\n",
       "      <td>2021-05-03 13:15:00</td>\n",
       "      <td>2021-08-03 02:30:00</td>\n",
       "      <td>2021-11-02 15:45:00</td>\n",
       "      <td>2022-02-01 23:00:00</td>\n",
       "    </tr>\n",
       "  </tbody>\n",
       "</table>\n",
       "</div>"
      ],
      "text/plain": [
       "     count                           mean                  min  \\\n",
       "time  8766  2021-08-03 01:57:28.459958784  2021-02-01 00:00:00   \n",
       "\n",
       "                      25%                  50%                  75%  \\\n",
       "time  2021-05-03 13:15:00  2021-08-03 02:30:00  2021-11-02 15:45:00   \n",
       "\n",
       "                      max  \n",
       "time  2022-02-01 23:00:00  "
      ]
     },
     "execution_count": 81,
     "metadata": {},
     "output_type": "execute_result"
    }
   ],
   "source": [
    "#basic stats - time\n",
    "\n",
    "df_orders[['time']].describe().T"
   ]
  },
  {
   "cell_type": "markdown",
   "metadata": {},
   "source": [
    "Start Time: 2021-02-01\n",
    "  End Time: 2022-02-01\n",
    "\n",
    "Data appears to be on hourly level."
   ]
  },
  {
   "cell_type": "code",
   "execution_count": 85,
   "metadata": {},
   "outputs": [
    {
     "name": "stdout",
     "output_type": "stream",
     "text": [
      "number of null orders: 0\n",
      "import row count: 8766\n",
      "post dup rmv row count: 8766\n",
      "number of hours missing: 19\n",
      "hours missing order information:\n",
      "                time_all time\n",
      "336  2021-02-15 00:00:00  NaT\n",
      "337  2021-02-15 01:00:00  NaT\n",
      "338  2021-02-15 02:00:00  NaT\n",
      "339  2021-02-15 03:00:00  NaT\n",
      "340  2021-02-15 04:00:00  NaT\n",
      "341  2021-02-15 05:00:00  NaT\n",
      "3024 2021-06-07 00:00:00  NaT\n",
      "3025 2021-06-07 01:00:00  NaT\n",
      "3026 2021-06-07 02:00:00  NaT\n",
      "3027 2021-06-07 03:00:00  NaT\n",
      "3028 2021-06-07 04:00:00  NaT\n",
      "3029 2021-06-07 05:00:00  NaT\n",
      "6216 2021-10-18 00:00:00  NaT\n",
      "6217 2021-10-18 01:00:00  NaT\n",
      "6218 2021-10-18 02:00:00  NaT\n",
      "6219 2021-10-18 03:00:00  NaT\n",
      "6220 2021-10-18 04:00:00  NaT\n",
      "6221 2021-10-18 05:00:00  NaT\n",
      "8784 2022-02-02 00:00:00  NaT\n"
     ]
    }
   ],
   "source": [
    "#data checks - null, duplicates, missing?\n",
    "\n",
    "#are there any orders with null information?\n",
    "print(\"number of null orders:\",df_orders['orders'].isna().sum())\n",
    "\n",
    "#do we have duplicate order information?\n",
    "df_view = df_orders.copy()\n",
    "df_view.drop_duplicates(subset = ['time'], inplace = True)\n",
    "print(\"import row count:\", len(df_orders['time']))\n",
    "print(\"post dup rmv row count:\", len(df_view['time']))\n",
    "del df_view\n",
    "\n",
    "#are we missing any minute by minute order information?\n",
    "start_time = pd.to_datetime('2021-02-01')\n",
    "end_time = pd.to_datetime('2022-02-02')\n",
    "date_range = pd.date_range(start=start_time, end=end_time, freq='h')\n",
    "df_all = pd.DataFrame(date_range, columns=['time_all'])\n",
    "\n",
    "df_all = df_all.merge(df_orders[['time']], how = 'left', left_on = ['time_all'], right_on = ['time'])\n",
    "print(\"number of hours missing:\",df_all['time'].isna().sum())\n",
    "df_all_msng = df_all[df_all['time'].isna()].copy()\n",
    "print(\"hours missing order information:\")\n",
    "print(df_all_msng)\n"
   ]
  },
  {
   "cell_type": "markdown",
   "metadata": {},
   "source": [
    "There are 19 hours where we are missing order information taking place over 4 days for multiple consecutive hours.\n",
    "\n",
    "Just as a placeholder, I'm going to use the average order information but only for data before the point where there is a null value"
   ]
  },
  {
   "cell_type": "code",
   "execution_count": 86,
   "metadata": {},
   "outputs": [],
   "source": [
    "#add in the hours that the orders data frame is currently missing\n",
    "\n",
    "#calculate running total of hours in data and orders\n",
    "df_orders['hours_cumulative'] = 1\n",
    "df_orders['hours_cumulative'] = df_orders['hours_cumulative'].cumsum()\n",
    "df_orders['orders_cumulative'] = df_orders['orders'].cumsum()\n",
    "\n",
    "#merge into the data the missing hours\n",
    "df_orders = df_all[['time_all']].merge(df_orders, how = 'left', left_on = ['time_all'], right_on = ['time'])\n",
    "df_orders.sort_values(by = ['time_all'], inplace = True)\n",
    "df_orders.drop(columns = ['time'], inplace = True)\n",
    "df_orders.rename(columns = {'time_all':'time'}, inplace = True)\n",
    "\n",
    "df_orders.sort_values(by = ['time'], inplace = True)\n",
    "df_orders.reset_index(drop = True, inplace = True)\n",
    "\n",
    "#fill in the missing hour information with the running average of order information\n",
    "df_orders['hours_cumulative'] = df_orders['hours_cumulative'].fillna(method = 'ffill')\n",
    "df_orders['orders_cumulative'] = df_orders['orders_cumulative'].fillna(method = 'ffill')\n",
    "df_orders.loc[df_orders['orders'].isna(), 'orders'] = (df_orders['orders_cumulative']/df_orders['hours_cumulative']).astype(int)\n",
    "\n",
    "#check if all orders have order information\n",
    "print(\"number of orders missing:\",df_orders['orders'].isna().sum())\n",
    "\n",
    "df_all_msng = df_all_msng.merge(df_orders, how = 'left', on = ['time'])\n",
    "print(df_all_msng)"
   ]
  },
  {
   "cell_type": "markdown",
   "metadata": {},
   "source": [
    "## Distribution of Order Information"
   ]
  },
  {
   "cell_type": "code",
   "execution_count": 18,
   "metadata": {},
   "outputs": [
    {
     "data": {
      "text/html": [
       "<div>\n",
       "<style scoped>\n",
       "    .dataframe tbody tr th:only-of-type {\n",
       "        vertical-align: middle;\n",
       "    }\n",
       "\n",
       "    .dataframe tbody tr th {\n",
       "        vertical-align: top;\n",
       "    }\n",
       "\n",
       "    .dataframe thead th {\n",
       "        text-align: right;\n",
       "    }\n",
       "</style>\n",
       "<table border=\"1\" class=\"dataframe\">\n",
       "  <thead>\n",
       "    <tr style=\"text-align: right;\">\n",
       "      <th></th>\n",
       "      <th>count</th>\n",
       "      <th>mean</th>\n",
       "      <th>std</th>\n",
       "      <th>min</th>\n",
       "      <th>25%</th>\n",
       "      <th>50%</th>\n",
       "      <th>75%</th>\n",
       "      <th>max</th>\n",
       "    </tr>\n",
       "  </thead>\n",
       "  <tbody>\n",
       "    <tr>\n",
       "      <th>orders</th>\n",
       "      <td>8766.0</td>\n",
       "      <td>73.15</td>\n",
       "      <td>111.04</td>\n",
       "      <td>0.0</td>\n",
       "      <td>0.0</td>\n",
       "      <td>30.0</td>\n",
       "      <td>97.0</td>\n",
       "      <td>939.0</td>\n",
       "    </tr>\n",
       "  </tbody>\n",
       "</table>\n",
       "</div>"
      ],
      "text/plain": [
       "         count   mean     std  min  25%   50%   75%    max\n",
       "orders  8766.0  73.15  111.04  0.0  0.0  30.0  97.0  939.0"
      ]
     },
     "execution_count": 18,
     "metadata": {},
     "output_type": "execute_result"
    }
   ],
   "source": [
    "#general statistics\n",
    "\n",
    "df_orders[[TARGET]].describe().round(2).T"
   ]
  },
  {
   "cell_type": "code",
   "execution_count": 30,
   "metadata": {},
   "outputs": [
    {
     "data": {
      "text/plain": [
       "array([[<AxesSubplot:title={'center':'orders'}>]], dtype=object)"
      ]
     },
     "execution_count": 30,
     "metadata": {},
     "output_type": "execute_result"
    },
    {
     "data": {
      "image/png": "[encoded data removed]",
      "text/plain": [
       "<Figure size 1400x400 with 1 Axes>"
      ]
     },
     "metadata": {},
     "output_type": "display_data"
    }
   ],
   "source": [
    "df_orders[[TARGET]].hist(bins=50)"
   ]
  },
  {
   "cell_type": "markdown",
   "metadata": {},
   "source": []
  },
  {
   "cell_type": "code",
   "execution_count": null,
   "metadata": {},
   "outputs": [],
   "source": []
  },
  {
   "cell_type": "markdown",
   "metadata": {},
   "source": [
    "## Evaluate Time Dependence"
   ]
  },
  {
   "cell_type": "code",
   "execution_count": null,
   "metadata": {},
   "outputs": [],
   "source": [
    "#extract out features from time field (hour, day, month, year)\n",
    "\n",
    "df_orders['year'] = df_orders['time'].dt.year\n",
    "df_orders['month'] = df_orders['time'].dt.month\n",
    "df_orders['day'] = df_orders['time'].dt.day\n",
    "df_orders['hour'] = df_orders['time'].dt.hour\n",
    "df_orders['minute'] = df_orders['time'].dt.minute\n",
    "df_orders['dayofweek'] = df_orders['time'].dt.day_of_week\n",
    "df_orders['dayofyear'] = df_orders['time'].dt.day_of_year"
   ]
  }
 ],
 "metadata": {
  "kernelspec": {
   "display_name": "Python 3",
   "language": "python",
   "name": "python3"
  },
  "language_info": {
   "codemirror_mode": {
    "name": "ipython",
    "version": 3
   },
   "file_extension": ".py",
   "mimetype": "text/x-python",
   "name": "python",
   "nbconvert_exporter": "python",
   "pygments_lexer": "ipython3",
   "version": "3.10.12"
  }
 },
 "nbformat": 4,
 "nbformat_minor": 2
}
